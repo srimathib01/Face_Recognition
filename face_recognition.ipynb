{
 "cells": [
  {
   "cell_type": "code",
   "execution_count": 1,
   "id": "2a9779af-88c1-4ac9-bcba-c0b8bd65c5f7",
   "metadata": {},
   "outputs": [],
   "source": [
    "import cv2\n",
    "import face_recognition"
   ]
  },
  {
   "cell_type": "code",
   "execution_count": 2,
   "id": "69355708-1f23-4134-8d1f-70b42471b356",
   "metadata": {},
   "outputs": [],
   "source": [
    "known_face_encodings = []\n",
    "known_face_names = []"
   ]
  },
  {
   "cell_type": "code",
   "execution_count": 3,
   "id": "3c327257-502d-45c9-a1e5-74399906bd5f",
   "metadata": {},
   "outputs": [],
   "source": [
    "known_person1_image=face_recognition.load_image_file(r\"C:\\Users\\HP\\OneDrive\\Desktop\\face_read\\images\\Ambedkar.jpg\")\n",
    "known_person2_image=face_recognition.load_image_file(r\"C:\\Users\\HP\\OneDrive\\Desktop\\face_read\\images\\biden.jpg\")\n",
    "known_person3_image=face_recognition.load_image_file(r\"C:\\Users\\HP\\OneDrive\\Desktop\\face_read\\images\\Mona_Lisa.jpg\")\n",
    "known_person4_image=face_recognition.load_image_file(r\"C:\\Users\\HP\\OneDrive\\Desktop\\face_read\\images\\obama-480p.jpg\")\n",
    "known_person5_image=face_recognition.load_image_file(r\"C:\\Users\\HP\\OneDrive\\Desktop\\face_read\\images\\sundar pichai.jpg\")"
   ]
  },
  {
   "cell_type": "code",
   "execution_count": 4,
   "id": "efc76169-8a5e-411e-b410-7ac67b584e78",
   "metadata": {},
   "outputs": [],
   "source": [
    "known_person1_face_encoding = face_recognition.face_encodings(known_person1_image)[0]\n",
    "known_person2_face_encoding = face_recognition.face_encodings(known_person2_image)[0]\n",
    "known_person3_face_encoding = face_recognition.face_encodings(known_person3_image)[0]\n",
    "known_person4_face_encoding = face_recognition.face_encodings(known_person4_image)[0]\n",
    "known_person5_face_encoding = face_recognition.face_encodings(known_person5_image)[0]"
   ]
  },
  {
   "cell_type": "code",
   "execution_count": 5,
   "id": "81e545d5-fe48-433c-b582-3429d95211ab",
   "metadata": {},
   "outputs": [],
   "source": [
    "known_face_encodings.append(known_person1_face_encoding)\n",
    "known_face_encodings.append(known_person2_face_encoding)\n",
    "known_face_encodings.append(known_person3_face_encoding)\n",
    "known_face_encodings.append(known_person4_face_encoding)\n",
    "known_face_encodings.append(known_person5_face_encoding)"
   ]
  },
  {
   "cell_type": "code",
   "execution_count": 6,
   "id": "37863460-cc5f-4a47-85af-6cf20eeceabd",
   "metadata": {},
   "outputs": [],
   "source": [
    "known_face_names.append(\"Ambedkar\")\n",
    "known_face_names.append(\"Biden\")\n",
    "known_face_names.append(\"Mona Lisa\")\n",
    "known_face_names.append(\"Obama\")\n",
    "known_face_names.append(\"Sundar Pichai\")\n",
    "\n"
   ]
  },
  {
   "cell_type": "code",
   "execution_count": 7,
   "id": "e4f7aafa-cad1-4d30-9a5b-c3e2dd497f7d",
   "metadata": {},
   "outputs": [],
   "source": [
    "video_capture = cv2.VideoCapture(0)\n",
    "\n",
    "while True:\n",
    "    # Capture frame-by-frame\n",
    "    ret, frame = video_capture.read()\n",
    "    if not ret:\n",
    "        print(\"Failed to capture frame. Exiting...\")\n",
    "        break\n",
    "\n",
    "    # Find all face locations and encodings in the current frame\n",
    "    face_locations = face_recognition.face_locations(frame)\n",
    "    face_encodings = face_recognition.face_encodings(frame, face_locations)\n",
    "\n",
    "    # Loop over each face found in the frame\n",
    "    for (top, right, bottom, left), face_encoding in zip(face_locations, face_encodings):\n",
    "        matches = face_recognition.compare_faces(known_face_encodings, face_encoding)\n",
    "        name = \"Unknown\"\n",
    "\n",
    "        # If a match is found, get the name of the matched face\n",
    "        if True in matches:\n",
    "            first_match_index = matches.index(True)\n",
    "            name = known_face_names[first_match_index]\n",
    "\n",
    "        # Draw a rectangle around the face\n",
    "        cv2.rectangle(frame, (left, top), (right, bottom), (0, 0, 255), 2)\n",
    "\n",
    "        # Draw the name below the rectangle\n",
    "        cv2.putText(frame, name, (left, top - 10), cv2.FONT_HERSHEY_SIMPLEX, 0.9, (0, 0, 255), 2)\n",
    "\n",
    "    # Display the resulting frame\n",
    "    cv2.imshow(\"Video\", frame)\n",
    "\n",
    "    # Break the loop if 'q' is pressed\n",
    "    if cv2.waitKey(1) & 0xFF == ord('q'):\n",
    "        break\n",
    "\n",
    "# Release the capture and close all OpenCV windows\n",
    "video_capture.release()\n",
    "cv2.destroyAllWindows()"
   ]
  },
  {
   "cell_type": "code",
   "execution_count": null,
   "id": "6f0b9f46-f1da-432d-9d59-df1dba67c833",
   "metadata": {},
   "outputs": [],
   "source": []
  }
 ],
 "metadata": {
  "kernelspec": {
   "display_name": "Python 3 (ipykernel)",
   "language": "python",
   "name": "python3"
  },
  "language_info": {
   "codemirror_mode": {
    "name": "ipython",
    "version": 3
   },
   "file_extension": ".py",
   "mimetype": "text/x-python",
   "name": "python",
   "nbconvert_exporter": "python",
   "pygments_lexer": "ipython3",
   "version": "3.12.7"
  }
 },
 "nbformat": 4,
 "nbformat_minor": 5
}
